{
 "cells": [
  {
   "cell_type": "code",
   "execution_count": 1,
   "metadata": {},
   "outputs": [
    {
     "name": "stdout",
     "output_type": "stream",
     "text": [
      "Dataset dimensions (1309, 17)\n",
      "Number of age outliers 65\n"
     ]
    }
   ],
   "source": [
    "#Titanic dataset - we can determine which passengers were outliers based on age.\n",
    "import pandas as pd\n",
    "df = pd.read_excel('http://biostat.mc.vanderbilt.edu/wiki/pub/Main/DataSets/titanic3.xls')\n",
    "# compute mean age\n",
    "df['x-Mean'] = abs(df['age'] - df['age'].mean())\n",
    "# 1.96 times standard deviation for age\n",
    "df['1.96*std'] = 1.96*df['age'].std()\n",
    "# this age is an outlier if abs difference > 1.96 times std dev\n",
    "df['Outlier'] = abs(df['age'] - df['age'].mean()) > 1.96*df['age'].std()\n",
    "# print (results)\n",
    "print (\"Dataset dimensions\", df.shape)\n",
    "print (\"Number of age outliers\", df.Outlier.value_counts()[True])"
   ]
  },
  {
   "cell_type": "raw",
   "metadata": {},
   "source": [
    "So, given there were about 1,300 passengers, we have about 5% outliers, which \n",
    "means that there may be a normal distribution of the ages."
   ]
  }
 ],
 "metadata": {
  "kernelspec": {
   "display_name": "Python 3",
   "language": "python",
   "name": "python3"
  },
  "language_info": {
   "codemirror_mode": {
    "name": "ipython",
    "version": 3
   },
   "file_extension": ".py",
   "mimetype": "text/x-python",
   "name": "python",
   "nbconvert_exporter": "python",
   "pygments_lexer": "ipython3",
   "version": "3.6.5"
  }
 },
 "nbformat": 4,
 "nbformat_minor": 2
}
